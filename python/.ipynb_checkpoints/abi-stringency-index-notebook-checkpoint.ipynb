{
 "cells": [
  {
   "cell_type": "markdown",
   "metadata": {
    "colab_type": "text",
    "id": "view-in-github"
   },
   "source": [
    "<a href=\"https://colab.research.google.com/gist/abibroad/b06f043f326cf63619bb6682159b8790/abi-stringency-index-notebook.ipynb\" target=\"_parent\"><img src=\"https://colab.research.google.com/assets/colab-badge.svg\" alt=\"Open In Colab\"/></a>"
   ]
  },
  {
   "cell_type": "markdown",
   "metadata": {
    "id": "O7tp5kYfWcam"
   },
   "source": [
    "## COVID-19 Stringency Index "
   ]
  },
  {
   "cell_type": "markdown",
   "metadata": {
    "id": "I1MFrYNcvj3S"
   },
   "source": [
    "The Oxford Covid-19 Government Response Tracker (OxCGRT) collects systematic information on which governments have taken which measures, and when. This can help decision-makers and citizens understand governmental responses in a consistent way, aiding efforts to fight the pandemic. The OxCGRT systematically collects information on several different common policy responses governments have taken, records these policies on a scale to reflect the extent of government action, and aggregates these scores into a suite of policy indices."
   ]
  },
  {
   "cell_type": "code",
   "execution_count": 1,
   "metadata": {
    "id": "P8-9720GT4a0"
   },
   "outputs": [
    {
     "ename": "FileNotFoundError",
     "evalue": "[Errno 2] No such file or directory: '/OxCGRT_latest_hackathon.csv'",
     "output_type": "error",
     "traceback": [
      "\u001b[1;31m---------------------------------------------------------------------------\u001b[0m",
      "\u001b[1;31mFileNotFoundError\u001b[0m                         Traceback (most recent call last)",
      "\u001b[1;32m<ipython-input-1-e7225f743f7e>\u001b[0m in \u001b[0;36m<module>\u001b[1;34m\u001b[0m\n\u001b[0;32m      1\u001b[0m \u001b[1;32mimport\u001b[0m \u001b[0mpandas\u001b[0m \u001b[1;32mas\u001b[0m \u001b[0mpd\u001b[0m\u001b[1;33m\u001b[0m\u001b[1;33m\u001b[0m\u001b[0m\n\u001b[0;32m      2\u001b[0m \u001b[1;31m#reading in the csv file for the stringency index\u001b[0m\u001b[1;33m\u001b[0m\u001b[1;33m\u001b[0m\u001b[1;33m\u001b[0m\u001b[0m\n\u001b[1;32m----> 3\u001b[1;33m \u001b[0mdf\u001b[0m \u001b[1;33m=\u001b[0m \u001b[0mpd\u001b[0m\u001b[1;33m.\u001b[0m\u001b[0mread_csv\u001b[0m\u001b[1;33m(\u001b[0m\u001b[1;34m'/OxCGRT_latest_hackathon.csv'\u001b[0m\u001b[1;33m)\u001b[0m\u001b[1;33m\u001b[0m\u001b[1;33m\u001b[0m\u001b[0m\n\u001b[0m",
      "\u001b[1;32m~\\anaconda3\\lib\\site-packages\\pandas\\io\\parsers.py\u001b[0m in \u001b[0;36mread_csv\u001b[1;34m(filepath_or_buffer, sep, delimiter, header, names, index_col, usecols, squeeze, prefix, mangle_dupe_cols, dtype, engine, converters, true_values, false_values, skipinitialspace, skiprows, skipfooter, nrows, na_values, keep_default_na, na_filter, verbose, skip_blank_lines, parse_dates, infer_datetime_format, keep_date_col, date_parser, dayfirst, cache_dates, iterator, chunksize, compression, thousands, decimal, lineterminator, quotechar, quoting, doublequote, escapechar, comment, encoding, dialect, error_bad_lines, warn_bad_lines, delim_whitespace, low_memory, memory_map, float_precision)\u001b[0m\n\u001b[0;32m    684\u001b[0m     )\n\u001b[0;32m    685\u001b[0m \u001b[1;33m\u001b[0m\u001b[0m\n\u001b[1;32m--> 686\u001b[1;33m     \u001b[1;32mreturn\u001b[0m \u001b[0m_read\u001b[0m\u001b[1;33m(\u001b[0m\u001b[0mfilepath_or_buffer\u001b[0m\u001b[1;33m,\u001b[0m \u001b[0mkwds\u001b[0m\u001b[1;33m)\u001b[0m\u001b[1;33m\u001b[0m\u001b[1;33m\u001b[0m\u001b[0m\n\u001b[0m\u001b[0;32m    687\u001b[0m \u001b[1;33m\u001b[0m\u001b[0m\n\u001b[0;32m    688\u001b[0m \u001b[1;33m\u001b[0m\u001b[0m\n",
      "\u001b[1;32m~\\anaconda3\\lib\\site-packages\\pandas\\io\\parsers.py\u001b[0m in \u001b[0;36m_read\u001b[1;34m(filepath_or_buffer, kwds)\u001b[0m\n\u001b[0;32m    450\u001b[0m \u001b[1;33m\u001b[0m\u001b[0m\n\u001b[0;32m    451\u001b[0m     \u001b[1;31m# Create the parser.\u001b[0m\u001b[1;33m\u001b[0m\u001b[1;33m\u001b[0m\u001b[1;33m\u001b[0m\u001b[0m\n\u001b[1;32m--> 452\u001b[1;33m     \u001b[0mparser\u001b[0m \u001b[1;33m=\u001b[0m \u001b[0mTextFileReader\u001b[0m\u001b[1;33m(\u001b[0m\u001b[0mfp_or_buf\u001b[0m\u001b[1;33m,\u001b[0m \u001b[1;33m**\u001b[0m\u001b[0mkwds\u001b[0m\u001b[1;33m)\u001b[0m\u001b[1;33m\u001b[0m\u001b[1;33m\u001b[0m\u001b[0m\n\u001b[0m\u001b[0;32m    453\u001b[0m \u001b[1;33m\u001b[0m\u001b[0m\n\u001b[0;32m    454\u001b[0m     \u001b[1;32mif\u001b[0m \u001b[0mchunksize\u001b[0m \u001b[1;32mor\u001b[0m \u001b[0miterator\u001b[0m\u001b[1;33m:\u001b[0m\u001b[1;33m\u001b[0m\u001b[1;33m\u001b[0m\u001b[0m\n",
      "\u001b[1;32m~\\anaconda3\\lib\\site-packages\\pandas\\io\\parsers.py\u001b[0m in \u001b[0;36m__init__\u001b[1;34m(self, f, engine, **kwds)\u001b[0m\n\u001b[0;32m    934\u001b[0m             \u001b[0mself\u001b[0m\u001b[1;33m.\u001b[0m\u001b[0moptions\u001b[0m\u001b[1;33m[\u001b[0m\u001b[1;34m\"has_index_names\"\u001b[0m\u001b[1;33m]\u001b[0m \u001b[1;33m=\u001b[0m \u001b[0mkwds\u001b[0m\u001b[1;33m[\u001b[0m\u001b[1;34m\"has_index_names\"\u001b[0m\u001b[1;33m]\u001b[0m\u001b[1;33m\u001b[0m\u001b[1;33m\u001b[0m\u001b[0m\n\u001b[0;32m    935\u001b[0m \u001b[1;33m\u001b[0m\u001b[0m\n\u001b[1;32m--> 936\u001b[1;33m         \u001b[0mself\u001b[0m\u001b[1;33m.\u001b[0m\u001b[0m_make_engine\u001b[0m\u001b[1;33m(\u001b[0m\u001b[0mself\u001b[0m\u001b[1;33m.\u001b[0m\u001b[0mengine\u001b[0m\u001b[1;33m)\u001b[0m\u001b[1;33m\u001b[0m\u001b[1;33m\u001b[0m\u001b[0m\n\u001b[0m\u001b[0;32m    937\u001b[0m \u001b[1;33m\u001b[0m\u001b[0m\n\u001b[0;32m    938\u001b[0m     \u001b[1;32mdef\u001b[0m \u001b[0mclose\u001b[0m\u001b[1;33m(\u001b[0m\u001b[0mself\u001b[0m\u001b[1;33m)\u001b[0m\u001b[1;33m:\u001b[0m\u001b[1;33m\u001b[0m\u001b[1;33m\u001b[0m\u001b[0m\n",
      "\u001b[1;32m~\\anaconda3\\lib\\site-packages\\pandas\\io\\parsers.py\u001b[0m in \u001b[0;36m_make_engine\u001b[1;34m(self, engine)\u001b[0m\n\u001b[0;32m   1166\u001b[0m     \u001b[1;32mdef\u001b[0m \u001b[0m_make_engine\u001b[0m\u001b[1;33m(\u001b[0m\u001b[0mself\u001b[0m\u001b[1;33m,\u001b[0m \u001b[0mengine\u001b[0m\u001b[1;33m=\u001b[0m\u001b[1;34m\"c\"\u001b[0m\u001b[1;33m)\u001b[0m\u001b[1;33m:\u001b[0m\u001b[1;33m\u001b[0m\u001b[1;33m\u001b[0m\u001b[0m\n\u001b[0;32m   1167\u001b[0m         \u001b[1;32mif\u001b[0m \u001b[0mengine\u001b[0m \u001b[1;33m==\u001b[0m \u001b[1;34m\"c\"\u001b[0m\u001b[1;33m:\u001b[0m\u001b[1;33m\u001b[0m\u001b[1;33m\u001b[0m\u001b[0m\n\u001b[1;32m-> 1168\u001b[1;33m             \u001b[0mself\u001b[0m\u001b[1;33m.\u001b[0m\u001b[0m_engine\u001b[0m \u001b[1;33m=\u001b[0m \u001b[0mCParserWrapper\u001b[0m\u001b[1;33m(\u001b[0m\u001b[0mself\u001b[0m\u001b[1;33m.\u001b[0m\u001b[0mf\u001b[0m\u001b[1;33m,\u001b[0m \u001b[1;33m**\u001b[0m\u001b[0mself\u001b[0m\u001b[1;33m.\u001b[0m\u001b[0moptions\u001b[0m\u001b[1;33m)\u001b[0m\u001b[1;33m\u001b[0m\u001b[1;33m\u001b[0m\u001b[0m\n\u001b[0m\u001b[0;32m   1169\u001b[0m         \u001b[1;32melse\u001b[0m\u001b[1;33m:\u001b[0m\u001b[1;33m\u001b[0m\u001b[1;33m\u001b[0m\u001b[0m\n\u001b[0;32m   1170\u001b[0m             \u001b[1;32mif\u001b[0m \u001b[0mengine\u001b[0m \u001b[1;33m==\u001b[0m \u001b[1;34m\"python\"\u001b[0m\u001b[1;33m:\u001b[0m\u001b[1;33m\u001b[0m\u001b[1;33m\u001b[0m\u001b[0m\n",
      "\u001b[1;32m~\\anaconda3\\lib\\site-packages\\pandas\\io\\parsers.py\u001b[0m in \u001b[0;36m__init__\u001b[1;34m(self, src, **kwds)\u001b[0m\n\u001b[0;32m   1996\u001b[0m         \u001b[0mkwds\u001b[0m\u001b[1;33m[\u001b[0m\u001b[1;34m\"usecols\"\u001b[0m\u001b[1;33m]\u001b[0m \u001b[1;33m=\u001b[0m \u001b[0mself\u001b[0m\u001b[1;33m.\u001b[0m\u001b[0musecols\u001b[0m\u001b[1;33m\u001b[0m\u001b[1;33m\u001b[0m\u001b[0m\n\u001b[0;32m   1997\u001b[0m \u001b[1;33m\u001b[0m\u001b[0m\n\u001b[1;32m-> 1998\u001b[1;33m         \u001b[0mself\u001b[0m\u001b[1;33m.\u001b[0m\u001b[0m_reader\u001b[0m \u001b[1;33m=\u001b[0m \u001b[0mparsers\u001b[0m\u001b[1;33m.\u001b[0m\u001b[0mTextReader\u001b[0m\u001b[1;33m(\u001b[0m\u001b[0msrc\u001b[0m\u001b[1;33m,\u001b[0m \u001b[1;33m**\u001b[0m\u001b[0mkwds\u001b[0m\u001b[1;33m)\u001b[0m\u001b[1;33m\u001b[0m\u001b[1;33m\u001b[0m\u001b[0m\n\u001b[0m\u001b[0;32m   1999\u001b[0m         \u001b[0mself\u001b[0m\u001b[1;33m.\u001b[0m\u001b[0munnamed_cols\u001b[0m \u001b[1;33m=\u001b[0m \u001b[0mself\u001b[0m\u001b[1;33m.\u001b[0m\u001b[0m_reader\u001b[0m\u001b[1;33m.\u001b[0m\u001b[0munnamed_cols\u001b[0m\u001b[1;33m\u001b[0m\u001b[1;33m\u001b[0m\u001b[0m\n\u001b[0;32m   2000\u001b[0m \u001b[1;33m\u001b[0m\u001b[0m\n",
      "\u001b[1;32mpandas\\_libs\\parsers.pyx\u001b[0m in \u001b[0;36mpandas._libs.parsers.TextReader.__cinit__\u001b[1;34m()\u001b[0m\n",
      "\u001b[1;32mpandas\\_libs\\parsers.pyx\u001b[0m in \u001b[0;36mpandas._libs.parsers.TextReader._setup_parser_source\u001b[1;34m()\u001b[0m\n",
      "\u001b[1;31mFileNotFoundError\u001b[0m: [Errno 2] No such file or directory: '/OxCGRT_latest_hackathon.csv'"
     ]
    }
   ],
   "source": [
    "import pandas as pd\n",
    "#reading in the csv file for the stringency index\n",
    "df = pd.read_csv('/OxCGRT_latest_hackathon.csv')"
   ]
  },
  {
   "cell_type": "code",
   "execution_count": null,
   "metadata": {
    "colab": {
     "base_uri": "https://localhost:8080/",
     "height": 275
    },
    "id": "qP46xCfzT4a6",
    "outputId": "291714f7-68ae-4e7c-f01e-da949277f1a6"
   },
   "outputs": [],
   "source": [
    "df.head()"
   ]
  },
  {
   "cell_type": "code",
   "execution_count": null,
   "metadata": {
    "colab": {
     "base_uri": "https://localhost:8080/",
     "height": 360
    },
    "id": "XQ3elGXDT4a9",
    "outputId": "31cdb27b-8ff0-4a8e-a0af-6c6de8e44aa6"
   },
   "outputs": [],
   "source": [
    "df.tail()"
   ]
  },
  {
   "cell_type": "markdown",
   "metadata": {
    "id": "33EWl9NF2Dz9"
   },
   "source": [
    "**Stringency Index in the UK**\n",
    "\n",
    "\n",
    "\n"
   ]
  },
  {
   "cell_type": "code",
   "execution_count": null,
   "metadata": {
    "colab": {
     "base_uri": "https://localhost:8080/",
     "height": 360
    },
    "id": "GvABWYYCT4a-",
    "outputId": "7df27031-aac9-469a-f9f9-a2f5d0a424fb"
   },
   "outputs": [],
   "source": [
    "#filtering and creating a new data frame\n",
    "df_uk = df[df['CountryName'] == \"United Kingdom\"]\n",
    "df_uk.head()"
   ]
  },
  {
   "cell_type": "code",
   "execution_count": null,
   "metadata": {
    "id": "YZP5YVl5T4a_"
   },
   "outputs": [],
   "source": [
    "%matplotlib inline \n",
    "import matplotlib as mpl\n",
    "import matplotlib.pyplot as plt\n",
    "import numpy as np"
   ]
  },
  {
   "cell_type": "code",
   "execution_count": null,
   "metadata": {
    "colab": {
     "base_uri": "https://localhost:8080/"
    },
    "id": "nvn9hQktT4a_",
    "outputId": "3bf3f0f0-5d46-4088-ec64-a590c12e5ae3",
    "scrolled": true
   },
   "outputs": [],
   "source": [
    "#converting the Date column from a string to a date format\n",
    "from datetime import datetime\n",
    "df_uk['Date'] = pd.to_datetime(df['Date'].astype(str))"
   ]
  },
  {
   "cell_type": "markdown",
   "metadata": {
    "id": "Rqf-rupKT4bA"
   },
   "source": [
    "**Time Series of Stringency and Government Response Index**"
   ]
  },
  {
   "cell_type": "markdown",
   "metadata": {
    "id": "w_R7XjleT4bA"
   },
   "source": [
    "The data from the 17 indicators is aggregated into a set of four common indices, reporting a number between 1 and 100 to reflect the level of government action on the topics in question:\n",
    "\n",
    "an overall government response index (which records how the response of governments has varied over all indicators in the database, becoming stronger or weaker over the course of the outbreak);\n",
    "a containment and health index (which combines ‘lockdown’ restrictions and closures with measures such as testing policy and contact tracing, short term investment in healthcare, as well investments in vaccine)\n",
    "an economic support index (which records measures such as income support and debt relief)\n",
    "as well as the original stringency index (which records the strictness of ‘lockdown style’ policies that primarily restrict people’s behaviour)."
   ]
  },
  {
   "cell_type": "code",
   "execution_count": null,
   "metadata": {
    "colab": {
     "base_uri": "https://localhost:8080/",
     "height": 487
    },
    "id": "EuIjGaxPT4bB",
    "outputId": "74c75476-ba0c-40ae-fef6-43b20817e1a0",
    "scrolled": false
   },
   "outputs": [],
   "source": [
    "df_uk.plot.line(x='Date', y=['StringencyIndex', 'ContainmentHealthIndex', 'EconomicSupportIndex', 'GovernmentResponseIndex'], figsize=(12,7), title = 'Monthly Stringency Index: January - August 2020')"
   ]
  },
  {
   "cell_type": "markdown",
   "metadata": {
    "id": "hALJ4zJaT4bC"
   },
   "source": [
    "So we can see that the Economic Support Index is the highest index. The Stringency Index is above the overall Government Response Index and the Containment Health Index is the lowest."
   ]
  },
  {
   "cell_type": "code",
   "execution_count": null,
   "metadata": {
    "colab": {
     "base_uri": "https://localhost:8080/"
    },
    "id": "S7VF6He7T4bD",
    "outputId": "ceb03e1a-c228-430a-ab64-782e21528576"
   },
   "outputs": [],
   "source": [
    "#adding in a column for the week\n",
    "df_uk['week'] = df_uk.Date.dt.isocalendar().week"
   ]
  },
  {
   "cell_type": "code",
   "execution_count": null,
   "metadata": {
    "colab": {
     "base_uri": "https://localhost:8080/",
     "height": 407
    },
    "id": "ZpmNeUWPT4bE",
    "outputId": "158c1230-ee5a-4cb8-e21e-3c47f4a56879"
   },
   "outputs": [],
   "source": [
    "#showing the stringency index for each week\n",
    "from statistics import mean\n",
    "df_uk2 = df_uk.groupby('week')['StringencyIndex'].mean()\n",
    "df_uk2.plot(kind='barh', figsize=(10, 6), title = 'Weekly Stringency Index: January - August 2020')"
   ]
  },
  {
   "cell_type": "code",
   "execution_count": null,
   "metadata": {
    "colab": {
     "base_uri": "https://localhost:8080/"
    },
    "id": "sMSWKyk-T4bF",
    "outputId": "6549fc4b-f1a3-4477-dd04-015ab51063b1"
   },
   "outputs": [],
   "source": [
    "#adding in a month column\n",
    "df_uk['month'] = df_uk.Date.dt.month\n"
   ]
  },
  {
   "cell_type": "code",
   "execution_count": null,
   "metadata": {
    "colab": {
     "base_uri": "https://localhost:8080/",
     "height": 407
    },
    "id": "JmKo8gufT4bG",
    "outputId": "a4e10a26-2dea-4a34-81d7-44987319d471"
   },
   "outputs": [],
   "source": [
    "from statistics import mean\n",
    "\n",
    "df_uk_si = df_uk.groupby('month')['StringencyIndex'].mean()\n",
    "df_uk_si.plot(kind='barh', figsize=(6, 6), title = \"Stringency Index: January - August 2020\")"
   ]
  },
  {
   "cell_type": "code",
   "execution_count": null,
   "metadata": {
    "colab": {
     "base_uri": "https://localhost:8080/",
     "height": 407
    },
    "id": "Ds2J-0CzT4bH",
    "outputId": "2fb5b222-ca64-4479-9c0a-9ee390806ef4"
   },
   "outputs": [],
   "source": [
    "df_uk_hi = df_uk.groupby('month')['ContainmentHealthIndex'].mean()\n",
    "df_uk_hi.plot(kind='barh', figsize=(6, 6), title = \"Health Containment Index: January - August 2020\")"
   ]
  },
  {
   "cell_type": "code",
   "execution_count": null,
   "metadata": {
    "colab": {
     "base_uri": "https://localhost:8080/",
     "height": 407
    },
    "id": "c36K83QFT4bI",
    "outputId": "f3d49f87-949c-4551-923d-cac73275c019"
   },
   "outputs": [],
   "source": [
    "df_uk_hi = df_uk.groupby('month')['EconomicSupportIndex'].mean()\n",
    "df_uk_hi.plot(kind='barh', figsize=(6, 6), title = \"Economic Support Index: January - August 2020\")"
   ]
  },
  {
   "cell_type": "code",
   "execution_count": null,
   "metadata": {
    "colab": {
     "base_uri": "https://localhost:8080/",
     "height": 407
    },
    "id": "ej81rNLxT4bJ",
    "outputId": "f28b2441-5af9-4cb7-99fe-5e4b85296868"
   },
   "outputs": [],
   "source": [
    "df_uk_hi = df_uk.groupby('month')['GovernmentResponseIndex'].mean()\n",
    "df_uk_hi.plot(kind='barh', figsize=(6, 6), title = \"Government Response Index: January - August 2020\")"
   ]
  },
  {
   "cell_type": "markdown",
   "metadata": {
    "id": "-qHeAZ4m7N6S"
   },
   "source": [
    "**Policy indicators**"
   ]
  },
  {
   "cell_type": "code",
   "execution_count": null,
   "metadata": {
    "colab": {
     "base_uri": "https://localhost:8080/",
     "height": 692
    },
    "id": "r315VlVnT4bK",
    "outputId": "fd404ed2-b44f-4094-e868-e130e70e18dd"
   },
   "outputs": [],
   "source": [
    "#Setting the month as the index and selecting the c columns relating to the policy indicators in relation to containment and closure policies\n",
    "df_uk4 = df_uk.set_index('month')\n",
    "df_uk5 = df_uk4[['C1_School closing','C2_Workplace closing','C3_Cancel public events','C4_Restrictions on gatherings', 'C5_Close public transport', 'C6_Stay at home requirements',  'C7_Restrictions on internal movement', 'C8_International travel controls'\n",
    "            ]]\n",
    "df_uk6=df_uk5.groupby('month')['C1_School closing','C2_Workplace closing','C3_Cancel public events','C4_Restrictions on gatherings', 'C5_Close public transport', 'C6_Stay at home requirements',  'C7_Restrictions on internal movement', 'C8_International travel controls'].mean()\n",
    "df_uk6.plot.line(figsize=(14,10),title = \"Stringency index - lockdown and closure policies\")"
   ]
  },
  {
   "cell_type": "code",
   "execution_count": null,
   "metadata": {
    "colab": {
     "base_uri": "https://localhost:8080/",
     "height": 692
    },
    "id": "cL4XjaYRT4bN",
    "outputId": "1ff8536b-c031-4e35-cdd2-c8aa89e25578"
   },
   "outputs": [],
   "source": [
    "#Setting the month as the index and selecting the e columns relating to the policy indicators in relation to the economy\n",
    "df_uke1 = df_uk.set_index('month')\n",
    "df_uke2 = df_uke1[['E1_Income support','E2_Debt/contract relief']]\n",
    "df_uke3=df_uke2.groupby('month')['E1_Income support','E2_Debt/contract relief'].mean()\n",
    "df_uke3.plot.line(figsize=(14,10),title = \"Economic policies\")\n",
    "\n",
    "#note - I had to remove E3_Fiscal measures and E4 international support due to data errors"
   ]
  },
  {
   "cell_type": "code",
   "execution_count": null,
   "metadata": {
    "colab": {
     "base_uri": "https://localhost:8080/",
     "height": 692
    },
    "id": "M2QszN7IT4bP",
    "outputId": "651e45d0-5477-416a-d6c7-bac16a2b17ca"
   },
   "outputs": [],
   "source": [
    "#Setting the month as the index and selecting the h columns relating to the policy indicators in relation to the lockdown restrictions with health related policies including testing\n",
    "df_ukh1 = df_uk.set_index('month')\n",
    "df_ukh2 = df_ukh1[['H1_Public information campaigns',\n",
    "       'H2_Testing policy', 'H3_Contact tracing']]\n",
    "df_ukh3=df_ukh2.groupby('month')['H1_Public information campaigns',\n",
    "        'H2_Testing policy', 'H3_Contact tracing'].mean()\n",
    "df_ukh3.plot.line(figsize=(14,10),title = \"Health policies\")\n",
    "\n",
    "#note - I had to remove H4 Emergency investment in healthcare and H5 Investment in vaccines due to data errors"
   ]
  }
 ],
 "metadata": {
  "colab": {
   "include_colab_link": true,
   "name": "Abi - Stringency Index Notebook.ipynb",
   "provenance": []
  },
  "kernelspec": {
   "display_name": "Python 3",
   "language": "python",
   "name": "python3"
  },
  "language_info": {
   "codemirror_mode": {
    "name": "ipython",
    "version": 3
   },
   "file_extension": ".py",
   "mimetype": "text/x-python",
   "name": "python",
   "nbconvert_exporter": "python",
   "pygments_lexer": "ipython3",
   "version": "3.7.6"
  }
 },
 "nbformat": 4,
 "nbformat_minor": 1
}
